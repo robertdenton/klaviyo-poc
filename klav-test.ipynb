{
 "cells": [
  {
   "cell_type": "code",
   "execution_count": 6,
   "id": "e7e6067b-a46f-4d76-afcf-fbb75c424a6d",
   "metadata": {},
   "outputs": [],
   "source": [
    "# See: https://github.com/klaviyo/klaviyo-api-python\n",
    "from klaviyo_api import KlaviyoAPI"
   ]
  },
  {
   "cell_type": "code",
   "execution_count": 7,
   "id": "62c97ceb-f8b7-466e-a635-0d21b8de32b3",
   "metadata": {},
   "outputs": [],
   "source": [
    "# See: https://savelev.medium.com/best-practice-how-to-store-secrets-and-settings-in-python-project-e3ee45b3094c\n",
    "import os\n",
    "import json\n",
    "def read_secrets() -> dict:\n",
    "    filename = os.path.join('secrets.json')\n",
    "    try:\n",
    "        with open(filename, mode='r') as f:\n",
    "            return json.loads(f.read())\n",
    "    except FileNotFoundError:\n",
    "        return {}\n",
    "secrets = read_secrets()"
   ]
  },
  {
   "cell_type": "code",
   "execution_count": 12,
   "id": "3daaca1b-8810-4bfb-8803-b238191787bc",
   "metadata": {},
   "outputs": [],
   "source": [
    "#print(secrets['klav_api_key'])\n",
    "klaviyo = KlaviyoAPI(secrets['klav_api_key'], max_delay=60, max_retries=3, test_host=None)\n",
    "#klaviyo.Metrics.get_metrics() "
   ]
  }
 ],
 "metadata": {
  "kernelspec": {
   "display_name": "Python 3 (ipykernel)",
   "language": "python",
   "name": "python3"
  },
  "language_info": {
   "codemirror_mode": {
    "name": "ipython",
    "version": 3
   },
   "file_extension": ".py",
   "mimetype": "text/x-python",
   "name": "python",
   "nbconvert_exporter": "python",
   "pygments_lexer": "ipython3",
   "version": "3.9.0"
  }
 },
 "nbformat": 4,
 "nbformat_minor": 5
}
