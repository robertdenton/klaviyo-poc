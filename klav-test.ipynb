{
 "cells": [
  {
   "cell_type": "code",
   "execution_count": 55,
   "id": "e7e6067b-a46f-4d76-afcf-fbb75c424a6d",
   "metadata": {},
   "outputs": [],
   "source": [
    "# See: https://github.com/klaviyo/klaviyo-api-python\n",
    "from klaviyo_api import KlaviyoAPI"
   ]
  },
  {
   "cell_type": "code",
   "execution_count": 56,
   "id": "62c97ceb-f8b7-466e-a635-0d21b8de32b3",
   "metadata": {},
   "outputs": [],
   "source": [
    "# See: https://savelev.medium.com/best-practice-how-to-store-secrets-and-settings-in-python-project-e3ee45b3094c\n",
    "import os\n",
    "import json\n",
    "def read_secrets() -> dict:\n",
    "    filename = os.path.join('secrets.json')\n",
    "    try:\n",
    "        with open(filename, mode='r') as f:\n",
    "            return json.loads(f.read())\n",
    "    except FileNotFoundError:\n",
    "        return {}\n",
    "secrets = read_secrets()"
   ]
  },
  {
   "cell_type": "code",
   "execution_count": 57,
   "id": "3daaca1b-8810-4bfb-8803-b238191787bc",
   "metadata": {},
   "outputs": [],
   "source": [
    "#print(secrets['klav_api_key'])\n",
    "klaviyo = KlaviyoAPI(secrets['klav_api_key'], max_delay=60, max_retries=3, test_host=None)\n",
    "#klaviyo.Metrics.get_metrics() "
   ]
  },
  {
   "cell_type": "code",
   "execution_count": 58,
   "id": "69a6a666-36a1-426f-a8a2-7196c71f758d",
   "metadata": {},
   "outputs": [
    {
     "name": "stdout",
     "output_type": "stream",
     "text": [
      "date_time => 2022-11-11 18:42:58.952907-07:00\n",
      "unix_timestamp =>  1668217378.0\n"
     ]
    }
   ],
   "source": [
    "# Unix: https://www.geeksforgeeks.org/how-to-convert-datetime-to-unix-timestamp-in-python/\n",
    "# Timezone: https://statisticsglobe.com/convert-datetime-to-different-time-zone-python\n",
    "from datetime import datetime\n",
    "import time\n",
    "from pytz import timezone\n",
    "\n",
    "# set mountain\n",
    "mtn = timezone('US/Mountain')\n",
    " \n",
    "# assigned regular string date\n",
    "date_time = mtn.localize(datetime.now())\n",
    "\n",
    "unix = time.mktime(date_time.timetuple())\n",
    " \n",
    "# print regular python date&time\n",
    "print(\"date_time =>\",date_time)\n",
    " \n",
    "# displaying unix timestamp after conversion\n",
    "print(\"unix_timestamp => \",unix)\n",
    "\n",
    "# --- Probably need to break out here\n",
    "\n",
    "# https://github.com/klaviyo/klaviyo-api-python#create-event\n",
    "# body | dict\n",
    "\n",
    "email = secrets['email']\n",
    "unique = email + str(unix)\n",
    "\n",
    "body = {\"data\": {\n",
    "        \"type\": \"event\",\n",
    "        \"attributes\": {\n",
    "            \"profile\": {\n",
    "                \"$email\": email,\n",
    "            },\n",
    "            \"metric\": {\"name\": \"email_test\"},\n",
    "            \"properties\": {\n",
    "                \"user_data\": {\n",
    "                    \"hours_run\": \"9\",\n",
    "                    \"total_skips\": \"6\",\n",
    "                    \"rain_skips\": \"3\"\n",
    "                }\n",
    "            },\n",
    "            \"time\": date_time,\n",
    "            \"unique_id\": unique    \n",
    "        }\n",
    "    }}\n",
    "\n",
    "klaviyo.Events.create_event(body);"
   ]
  },
  {
   "cell_type": "code",
   "execution_count": null,
   "id": "8730fc64-62ed-49b7-9156-1e379f773e12",
   "metadata": {},
   "outputs": [],
   "source": []
  }
 ],
 "metadata": {
  "kernelspec": {
   "display_name": "Python 3 (ipykernel)",
   "language": "python",
   "name": "python3"
  },
  "language_info": {
   "codemirror_mode": {
    "name": "ipython",
    "version": 3
   },
   "file_extension": ".py",
   "mimetype": "text/x-python",
   "name": "python",
   "nbconvert_exporter": "python",
   "pygments_lexer": "ipython3",
   "version": "3.9.0"
  }
 },
 "nbformat": 4,
 "nbformat_minor": 5
}
